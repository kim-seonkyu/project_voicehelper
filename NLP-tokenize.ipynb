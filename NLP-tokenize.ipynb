{
 "cells": [
  {
   "cell_type": "code",
   "execution_count": 1,
   "metadata": {
    "colab": {},
    "colab_type": "code",
    "id": "ALHxY8mKMjiz",
    "outputId": "00bdd19e-d6f2-4594-ddbf-486a3e26d047"
   },
   "outputs": [
    {
     "name": "stderr",
     "output_type": "stream",
     "text": [
      "ERROR: Invalid requirement: '#한국어'\n"
     ]
    }
   ],
   "source": [
    "!pip install konlpy #한국어 자연어처리 패키지"
   ]
  },
  {
   "cell_type": "code",
   "execution_count": 2,
   "metadata": {},
   "outputs": [
    {
     "data": {
      "text/plain": [
       "'C:\\\\Users\\\\seonkyu\\\\Desktop\\\\speech'"
      ]
     },
     "execution_count": 2,
     "metadata": {},
     "output_type": "execute_result"
    }
   ],
   "source": [
    "pwd #현재 경로 위치 확인"
   ]
  },
  {
   "cell_type": "code",
   "execution_count": 3,
   "metadata": {
    "colab": {},
    "colab_type": "code",
    "id": "w0BEnwdwMji5",
    "outputId": "04a70446-56ed-4653-d65d-5f6b73529dea"
   },
   "outputs": [
    {
     "name": "stdout",
     "output_type": "stream",
     "text": [
      " C 드라이브의 볼륨: Windows\n",
      " 볼륨 일련 번호: 7679-8545\n",
      "\n"
     ]
    },
    {
     "name": "stderr",
     "output_type": "stream",
     "text": [
      "파일을 찾을 수 없습니다.\n"
     ]
    },
    {
     "name": "stdout",
     "output_type": "stream",
     "text": [
      " C:\\Users\\seonkyu\\Desktop\\speech 디렉터리\n",
      "\n",
      "\n",
      " C:\\Users\\seonkyu\\Desktop\\speech 디렉터리\n",
      "\n",
      "\n",
      " C:\\Users\\seonkyu\\Desktop\\speech 디렉터리\n",
      "\n",
      "\n",
      " C:\\Users\\seonkyu\\Desktop\\speech 디렉터리\n",
      "\n",
      "\n",
      " C:\\Users\\seonkyu\\Desktop\\speech 디렉터리\n",
      "\n"
     ]
    }
   ],
   "source": [
    "ls #현재 경로에 text파일 있는지 확인"
   ]
  },
  {
   "cell_type": "code",
   "execution_count": 4,
   "metadata": {
    "colab": {
     "base_uri": "https://localhost:8080/",
     "height": 244
    },
    "colab_type": "code",
    "executionInfo": {
     "elapsed": 1423,
     "status": "error",
     "timestamp": 1598368689514,
     "user": {
      "displayName": "Loszen",
      "photoUrl": "https://lh3.googleusercontent.com/a-/AOh14GgD2cXl7ZU-ktiM4Dy3n7wb6ndZhBBJAM7Acs06=s64",
      "userId": "13293839071969268712"
     },
     "user_tz": -540
    },
    "id": "cdET8zRwMji7",
    "outputId": "75f01d2f-ce91-4cb3-a51f-e12339516419"
   },
   "outputs": [
    {
     "ename": "SyntaxError",
     "evalue": "(unicode error) 'unicodeescape' codec can't decode bytes in position 2-3: truncated \\UXXXXXXXX escape (<ipython-input-4-5b0291da3b39>, line 1)",
     "output_type": "error",
     "traceback": [
      "\u001b[1;36m  File \u001b[1;32m\"<ipython-input-4-5b0291da3b39>\"\u001b[1;36m, line \u001b[1;32m1\u001b[0m\n\u001b[1;33m    f=open(\"C:\\Users\\seonkyu\\Desktop\\speech\\stt.txt\",'r',encoding=\"utf-8\") #ls로 확인한 디렉토리 내부에 있는 text파일 경로를입력 \\대신 /를 입력\u001b[0m\n\u001b[1;37m           ^\u001b[0m\n\u001b[1;31mSyntaxError\u001b[0m\u001b[1;31m:\u001b[0m (unicode error) 'unicodeescape' codec can't decode bytes in position 2-3: truncated \\UXXXXXXXX escape\n"
     ]
    }
   ],
   "source": [
    "f=open(\"C:\\Users\\seonkyu\\Desktop\\speech\\\\stt.txt\",'r',encoding=\"utf-8\") #ls로 확인한 디렉토리 내부에 있는 text파일 경로를입력 \\대신 /를 입력\n",
    "data = f.read()\n",
    "import konlpy\n",
    "from konlpy.tag import Komoran\n",
    "from konlpy.tag import Okt\n",
    "komoran=Komoran()\n",
    "okt=Okt()\n",
    "test1=komoran.nouns(data)\n",
    "test2=komoran.morphs(data)\n",
    "test3=okt.nouns(data)\n",
    "test4=okt.morphs(data)\n",
    "print(test1)\n",
    "print(test2)\n",
    "print(test3)\n",
    "print(test4)\n",
    "f.close"
   ]
  },
  {
   "cell_type": "code",
   "execution_count": null,
   "metadata": {},
   "outputs": [],
   "source": [
    "import sys #자연어 처리된 결과 텍스트 파일로 저장\n",
    "sys.stdout=open('test1.txt','w')\n",
    "print(test1)\n",
    "sys.stdout=open('test2.txt','w')\n",
    "print(test2)\n",
    "sys.stdout=open('test3.txt','w')\n",
    "print(test3)\n",
    "sys.stdout=open('test4.txt','w')\n",
    "print(test4)"
   ]
  },
  {
   "cell_type": "code",
   "execution_count": null,
   "metadata": {},
   "outputs": [],
   "source": []
  }
 ],
 "metadata": {
  "colab": {
   "name": "NLP-tokenize.ipynb",
   "provenance": []
  },
  "kernelspec": {
   "display_name": "Python 3",
   "language": "python",
   "name": "python3"
  },
  "language_info": {
   "codemirror_mode": {
    "name": "ipython",
    "version": 3
   },
   "file_extension": ".py",
   "mimetype": "text/x-python",
   "name": "python",
   "nbconvert_exporter": "python",
   "pygments_lexer": "ipython3",
   "version": "3.8.3"
  }
 },
 "nbformat": 4,
 "nbformat_minor": 1
}
